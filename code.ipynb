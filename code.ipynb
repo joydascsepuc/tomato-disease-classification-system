from keras.models import Sequential
from keras.layers import Conv2D, MaxPooling2D, Flatten, Dropout, Dense, BatchNormalization, Activation
from sklearn.metrics import classification_report, confusion_matrix, multilabel_confusion_matrix
import matplotlib.pyplot as plt
from keras.preprocessing.image import ImageDataGenerator
from sklearn.metrics import roc_curve, auc
from keras.callbacks import History
from sklearn import metrics
from keras.utils.np_utils import to_categorical
import pandas as pd
from keras import optimizers
import itertools
import numpy as np

img_height, img_width = 64, 64
batch_size = 50
steps_in_epoch = 64
num_of_epoch = 10
num_of_class = 4

train_dir = '/content/drive/My Drive/tomato/train_set'
test_dir = '/content/drive/My Drive/tomato/test_set'

model = Sequential()

model.add(Conv2D(32, (3, 3), input_shape = (img_height, img_width, 3), activation="relu", padding="same"))
model.add(Conv2D(32, (3, 3), activation = 'relu', padding="same"))
model.add(BatchNormalization())
model.add(MaxPooling2D(pool_size = (2, 2)))
model.add(Dropout(rate=0.25))

model.add(Conv2D(64, (3, 3), activation="relu", padding="same"))
model.add(MaxPooling2D(pool_size = (2, 2)))
model.add(BatchNormalization())
model.add(MaxPooling2D(pool_size = (2, 2)))
model.add(Dropout(rate=0.25))

model.add(Flatten())

model.add(Dense(units = 1024, activation="relu"))
model.add(BatchNormalization())
model.add(Dropout(rate=0.25))
model.add(Dense(units = num_of_class, activation = 'sigmoid'))

model.summary()

model.compile(
            optimizer = 'adam',
            loss = 'categorical_crossentropy',
            metrics = ['acc'])

datagen = ImageDataGenerator(rescale=1./255, shear_range=0.2, zoom_range=0.2)

training_set = datagen.flow_from_directory(
                                            train_dir,
                                            target_size=(64, 64),
                                            batch_size=batch_size,
                                            class_mode='categorical',
                                            shuffle=True)

test_set = datagen.flow_from_directory(
                                            test_dir,
                                            target_size=(64, 64),
                                            batch_size=batch_size,                                            
                                            class_mode='categorical',
                                            shuffle=False)                                       


history=model.fit_generator(
                                training_set,
                                steps_per_epoch=steps_in_epoch,
                                epochs=num_of_epoch,
                                validation_data=test_set,
                                validation_steps=7)

print(history.history.keys())
plt.plot(history.history['acc'])
plt.plot(history.history['val_acc'])
plt.title('accuracy')
plt.ylabel('accuracy')
plt.xlabel('epoch')
plt.legend(['train', 'test'], loc='upper left')
plt.show()

plt.plot(history.history['loss'])
plt.plot(history.history['val_loss'])
plt.title('loss')
plt.ylabel('loss')
plt.xlabel('epoch')
plt.legend(['train', 'test'], loc='upper left')
plt.show()

train_labels = training_set.classes  
train_labels = to_categorical(train_labels, num_classes=num_of_class)
test_labels = test_set.classes
test_labels = to_categorical(test_labels, num_classes=num_of_class)

preds = np.round(model.predict(test_set),0)
categorical_test_labels = pd.DataFrame(test_labels).idxmax(axis=1)
categorical_preds = pd.DataFrame(preds).idxmax(axis=1)

Y_pred = model.predict(test_set)
y_pred = np.argmax(Y_pred, axis=1)

from scipy import interp
from itertools import cycle
n_classes= num_of_class
fpr = dict()
tpr = dict()
roc_auc = dict()
for i in range(n_classes):
    fpr[i], tpr[i], _ = roc_curve(test_labels[:, i],Y_pred[:, i])
    roc_auc[i] = auc(fpr[i], tpr[i])

# Compute micro-average ROC curve and ROC area
fpr["micro"], tpr["micro"], _ = roc_curve(test_labels.ravel(), Y_pred.ravel())
roc_auc["micro"] = auc(fpr["micro"], tpr["micro"])
lw = 2
plt.plot(fpr[2], tpr[2], color='darkorange',
lw=lw, label='ROC curve (area = %0.2f)' % roc_auc[0])
plt.plot([0, 1], [0, 1], color='navy', lw=lw, linestyle='--')
plt.xlim([0.0, 1.0])
plt.ylim([0.0, 1.05])
plt.xlabel('False Positive Rate')
plt.ylabel('True Positive Rate')
plt.title('Receiver operating characteristic example')
plt.legend(loc="lower right")
plt.show()
def multiclass_roc_auc_score(test_set, y_pred, average="macro"):
    lb = LabelBinarizer()
    lb.fit(y_test)
    y_test = lb.transform(y_test)
    y_pred = lb.transform(Y_pred)
    return roc_auc_score(y_test, y_pred, average=average)

all_fpr = np.unique(np.concatenate([fpr[i] for i in range(n_classes)]))

# Then interpolate all ROC curves at this points
mean_tpr = np.zeros_like(all_fpr)
for i in range(n_classes):
    mean_tpr += interp(all_fpr, fpr[i], tpr[i])

# Finally average it and compute AUC
mean_tpr /= n_classes

fpr["macro"] = all_fpr
tpr["macro"] = mean_tpr
roc_auc["macro"] = auc(fpr["macro"], tpr["macro"])

# Plot all ROC c
plt.figure()
plt.plot(fpr["micro"], tpr["micro"],
        label='micro-average ROC curve (area = {0:0.2f})'
              ''.format(roc_auc["micro"]),
        color='deeppink', linestyle=':', linewidth=4)

plt.plot(fpr["macro"], tpr["macro"],
        label='macro-average ROC curve (area = {0:0.2f})'
              ''.format(roc_auc["macro"]),
        color='navy', linestyle=':', linewidth=4)

colors = cycle(['aqua', 'darkorange', 'cornflowerblue'])
for i, color in zip(range(n_classes), colors):
    plt.plot(fpr[i], tpr[i], color=color, lw=lw,
            label='ROC curve of class {0} (area = {1:0.2f})'
            ''.format(i, roc_auc[i]))

plt.plot([0, 1], [0, 1], 'k--', lw=lw)
plt.xlim([0.0, 1.0])
plt.ylim([0.0, 1.05])
plt.xlabel('False Positive Rate')
plt.ylabel('True Positive Rate')
plt.title('Some extension of Receiver operating characteristic to multi-class')
plt.legend(loc="lower right")
plt.show()

diseases = ['Bacterial','Healthy','Late Blight','Yellow Spot']
cm = metrics.classification_report(test_labels,preds,target_names = diseases)
print(cm)

classes = num_of_class

def plot_confusion_matrix(cm, classes,
   normalize=False,
   title='Confusion matrix',
   cmap=plt.cm.Blues):
  if normalize:
     cm = cm.astype('float') / cm.sum(axis=1)[:, np.newaxis]
     print('Normalized confusion matrix')
  else:
     print('Confusion matrix, without normalization')

  plt.imshow(cm, interpolation='nearest', cmap=cmap)
  plt.title(title)
  plt.colorbar()
  tick_marks = np.arange(len(classes))
  plt.xticks(tick_marks, classes, rotation=45)
  plt.yticks(tick_marks, classes)

  fmt = '.2f' if normalize else 'd'
  thresh = cm.max() / 2.
  for i, j in itertools.product(range(cm.shape[0]), range(cm.shape[1])):
    plt.text(j, i, format(cm[i, j], fmt), horizontalalignment='center', color='white' if cm[i, j] > thresh else 'black')
    plt.tight_layout()
    plt.ylabel('True label')
    plt.xlabel('Predicted label')

confusion_matrix= confusion_matrix(categorical_test_labels, categorical_preds)
plot_confusion_matrix(confusion_matrix,['Bacterial','Healthy','Late Blight','Yellow Spot'], normalize=False)